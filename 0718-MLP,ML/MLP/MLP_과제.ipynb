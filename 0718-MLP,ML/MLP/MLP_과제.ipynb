{
  "cells": [
    {
      "cell_type": "markdown",
      "metadata": {
        "id": "4sSY3DjNbPEa"
      },
      "source": [
        "### 필요 Package download"
      ]
    },
    {
      "cell_type": "code",
      "execution_count": 1,
      "metadata": {
        "id": "PK3bVKuBcbZ6"
      },
      "outputs": [],
      "source": [
        "import torch\n",
        "import torchvision\n",
        "import torchvision.transforms as transforms"
      ]
    },
    {
      "cell_type": "code",
      "source": [
        "device = torch.device('cuda' if torch.cuda.is_available() else 'cpu')\n",
        "\n",
        "# 현재 gpu를 사용중이면 cuda로 출력됩니다!:\n",
        "# gpu 변경은 런타임 -> 런타임 유형변경 -> 하드웨어 가속기: GPU로 할 수 있습니다.\n",
        "\n",
        "print(device)"
      ],
      "metadata": {
        "colab": {
          "base_uri": "https://localhost:8080/"
        },
        "id": "B7Jp6DQLn3sz",
        "outputId": "5eb46c8f-687c-4ddc-c286-8925007ccdf3"
      },
      "execution_count": 2,
      "outputs": [
        {
          "output_type": "stream",
          "name": "stdout",
          "text": [
            "cuda\n"
          ]
        }
      ]
    },
    {
      "cell_type": "markdown",
      "source": [
        "## 데이터 부연설명\n",
        "* 저희가 사용할 dataset은 cifar-10이라는 이름을 가진, 컬러 이미지 데이터 60,000개가 들어있는\n",
        "dataset입니다. <br>\n",
        "* 해당 dataset은 총 10개의 class로 나누어져 있으며, 이 task는 각 이미지에 대한 class의 분류 accuracy를 높이는 것이 목적입니다."
      ],
      "metadata": {
        "id": "W9v_beLpA34L"
      }
    },
    {
      "cell_type": "markdown",
      "source": [
        "### Data Normalize & DataLoader Settting"
      ],
      "metadata": {
        "id": "Z8e8Z-lhhxZ7"
      }
    },
    {
      "cell_type": "code",
      "execution_count": 3,
      "metadata": {
        "colab": {
          "base_uri": "https://localhost:8080/"
        },
        "id": "itmleb14cdyh",
        "outputId": "8aa4ddd9-f89e-4484-c073-0718d3fcafe3"
      },
      "outputs": [
        {
          "output_type": "stream",
          "name": "stdout",
          "text": [
            "Downloading https://www.cs.toronto.edu/~kriz/cifar-10-python.tar.gz to ./data/cifar-10-python.tar.gz\n"
          ]
        },
        {
          "output_type": "stream",
          "name": "stderr",
          "text": [
            "100%|██████████| 170498071/170498071 [00:14<00:00, 11971928.36it/s]\n"
          ]
        },
        {
          "output_type": "stream",
          "name": "stdout",
          "text": [
            "Extracting ./data/cifar-10-python.tar.gz to ./data\n",
            "Files already downloaded and verified\n"
          ]
        }
      ],
      "source": [
        "transform = transforms.Compose(\n",
        "    [transforms.ToTensor(),\n",
        "     transforms.Normalize((0.5, 0.5, 0.5), (0.5, 0.5, 0.5))])\n",
        "\n",
        "trainset = torchvision.datasets.CIFAR10(root='./data', train=True,\n",
        "                                        download=True, transform=transform)\n",
        "trainloader = torch.utils.data.DataLoader(trainset, batch_size=4,\n",
        "                                          shuffle=True, num_workers=2)\n",
        "\n",
        "testset = torchvision.datasets.CIFAR10(root='./data', train=False,\n",
        "                                       download=True, transform=transform)\n",
        "testloader = torch.utils.data.DataLoader(testset, batch_size=4,\n",
        "                                         shuffle=False, num_workers=2)\n",
        "\n",
        "classes = ('plane', 'car', 'bird', 'cat',\n",
        "           'deer', 'dog', 'frog', 'horse', 'ship', 'truck')"
      ]
    },
    {
      "cell_type": "code",
      "execution_count": 4,
      "metadata": {
        "colab": {
          "base_uri": "https://localhost:8080/",
          "height": 211
        },
        "id": "ViOCagdocmEt",
        "outputId": "4050c322-b7dd-41f1-dfb5-57d6a83a393d"
      },
      "outputs": [
        {
          "output_type": "stream",
          "name": "stdout",
          "text": [
            "horse plane  deer plane\n"
          ]
        },
        {
          "output_type": "display_data",
          "data": {
            "text/plain": [
              "<Figure size 640x480 with 1 Axes>"
            ],
            "image/png": "[encoded data removed]"
          },
          "metadata": {}
        }
      ],
      "source": [
        "import matplotlib.pyplot as plt\n",
        "import numpy as np\n",
        "\n",
        "# 이미지를 보여주기 위한 함수\n",
        "\n",
        "\n",
        "def imshow(img):\n",
        "    img = img / 2 + 0.5     # 표준화 해제\n",
        "    npimg = img.numpy()\n",
        "    plt.imshow(np.transpose(npimg, (1, 2, 0)))\n",
        "\n",
        "\n",
        "# 학습용 이미지를 무작위로 가져오기\n",
        "dataiter = iter(trainloader)\n",
        "images, labels = dataiter.__next__()\n",
        "\n",
        "# 이미지 보여주기\n",
        "imshow(torchvision.utils.make_grid(images))\n",
        "# 정답(label) 출력\n",
        "print(' '.join('%5s' % classes[labels[j]] for j in range(4)))\n",
        "plt.show()"
      ]
    },
    {
      "cell_type": "code",
      "execution_count": 5,
      "metadata": {
        "id": "TQsfjGTWcm-i"
      },
      "outputs": [],
      "source": [
        "\n",
        "import torch.nn as nn\n",
        "import torch.nn.functional as F\n",
        "\n",
        "class Net(nn.Module):\n",
        "    def __init__(self):\n",
        "        super(Net, self).__init__()\n",
        "        self.conv1 = nn.Conv2d(3, 6, 5)\n",
        "        self.pool = nn.MaxPool2d(2, 2)\n",
        "        self.conv2 = nn.Conv2d(6, 16, 5)\n",
        "        self.fc1 = nn.Linear(400, 120)\n",
        "        self.fc2 = nn.Linear(120, 48)\n",
        "        self.fc3 = nn.Linear(48, 24)\n",
        "        self.fc4 = nn.Linear(24, 10)\n",
        "\n",
        "    def forward(self, x):\n",
        "        x = self.pool(F.leaky_relu(self.conv1(x)))\n",
        "        x = self.pool(F.leaky_relu(self.conv2(x)))\n",
        "        x = x.view(-1, 16 * 5 * 5)\n",
        "        x = F.leaky_relu(self.fc1(x))\n",
        "        x = F.leaky_relu(self.fc2(x))\n",
        "        x = F.leaky_relu(self.fc3(x))\n",
        "        x = self.fc4(x)\n",
        "        return x\n",
        "\n",
        "net = Net()\n"
      ]
    },
    {
      "cell_type": "code",
      "execution_count": 7,
      "metadata": {
        "id": "HmJhscg1dIhs"
      },
      "outputs": [],
      "source": [
        "import torch.optim as optim\n",
        "\n",
        "#optimizer를 변경하거나 수치를 조정해보는 것도 accuracy를 높이는 데 도움을 줄 수 있습니다!\n",
        "criterion = nn.CrossEntropyLoss()\n",
        "optimizer = torch.optim.Adam(net.parameters(), lr=0.001, betas=(0.9, 0.999))\n"
      ]
    },
    {
      "cell_type": "code",
      "source": [
        "for epoch in range(10):  # 데이터셋을 n차례 반복하여 학습한다.\n",
        "\n",
        "    running_loss = 0.0\n",
        "    for i, data in enumerate(trainloader, 0):\n",
        "        # 입력을 받은 후\n",
        "        inputs, labels = data\n",
        "        # 변화도(Gradient) 매개변수를 0으로 만든 후\n",
        "        optimizer.zero_grad()\n",
        "\n",
        "        # 순전파 + 역전파 + 최적화\n",
        "        outputs = net(inputs)\n",
        "        loss = criterion(outputs, labels)\n",
        "        loss.backward()\n",
        "        optimizer.step()\n",
        "\n",
        "        # 통계 출력\n",
        "\n",
        "        running_loss += loss.item()\n",
        "        # 1000개의 data를 학습할때마다 loss 출력\n",
        "        if i % 1000 == 999:    # batch_size를 조정\n",
        "            print('[%d, %5d] loss: %.3f' %\n",
        "                  (epoch + 1, i + 1, running_loss / 1000))\n",
        "            running_loss = 0.0\n",
        "\n",
        "print('Finished Training')\n"
      ],
      "metadata": {
        "colab": {
          "base_uri": "https://localhost:8080/"
        },
        "id": "unpsQ8KhPv-O",
        "outputId": "04917f69-d2f9-4d3a-be8b-0d3749337f26"
      },
      "execution_count": 12,
      "outputs": [
        {
          "output_type": "stream",
          "name": "stdout",
          "text": [
            "[1,  1000] loss: 1.318\n",
            "[1,  2000] loss: 1.334\n",
            "[1,  3000] loss: 1.314\n",
            "[1,  4000] loss: 1.322\n",
            "[1,  5000] loss: 1.309\n",
            "[1,  6000] loss: 1.283\n",
            "[1,  7000] loss: 1.262\n",
            "[1,  8000] loss: 1.274\n",
            "[1,  9000] loss: 1.264\n",
            "[1, 10000] loss: 1.262\n",
            "[1, 11000] loss: 1.266\n",
            "[1, 12000] loss: 1.249\n",
            "[2,  1000] loss: 1.166\n",
            "[2,  2000] loss: 1.198\n",
            "[2,  3000] loss: 1.162\n",
            "[2,  4000] loss: 1.159\n",
            "[2,  5000] loss: 1.151\n",
            "[2,  6000] loss: 1.177\n",
            "[2,  7000] loss: 1.152\n",
            "[2,  8000] loss: 1.165\n",
            "[2,  9000] loss: 1.209\n",
            "[2, 10000] loss: 1.132\n",
            "[2, 11000] loss: 1.141\n",
            "[2, 12000] loss: 1.158\n",
            "[3,  1000] loss: 1.085\n",
            "[3,  2000] loss: 1.064\n",
            "[3,  3000] loss: 1.049\n",
            "[3,  4000] loss: 1.078\n",
            "[3,  5000] loss: 1.084\n",
            "[3,  6000] loss: 1.095\n",
            "[3,  7000] loss: 1.099\n",
            "[3,  8000] loss: 1.083\n",
            "[3,  9000] loss: 1.082\n",
            "[3, 10000] loss: 1.085\n",
            "[3, 11000] loss: 1.076\n",
            "[3, 12000] loss: 1.069\n",
            "[4,  1000] loss: 1.002\n",
            "[4,  2000] loss: 1.012\n",
            "[4,  3000] loss: 0.983\n",
            "[4,  4000] loss: 1.015\n",
            "[4,  5000] loss: 1.020\n",
            "[4,  6000] loss: 1.022\n",
            "[4,  7000] loss: 1.042\n",
            "[4,  8000] loss: 1.027\n",
            "[4,  9000] loss: 1.032\n",
            "[4, 10000] loss: 1.018\n",
            "[4, 11000] loss: 1.014\n",
            "[4, 12000] loss: 1.043\n",
            "[5,  1000] loss: 0.920\n",
            "[5,  2000] loss: 0.972\n",
            "[5,  3000] loss: 0.967\n",
            "[5,  4000] loss: 0.953\n",
            "[5,  5000] loss: 0.942\n",
            "[5,  6000] loss: 0.975\n",
            "[5,  7000] loss: 0.996\n",
            "[5,  8000] loss: 0.958\n",
            "[5,  9000] loss: 0.977\n",
            "[5, 10000] loss: 0.965\n",
            "[5, 11000] loss: 0.997\n",
            "[5, 12000] loss: 1.020\n",
            "[6,  1000] loss: 0.886\n",
            "[6,  2000] loss: 0.890\n",
            "[6,  3000] loss: 0.911\n",
            "[6,  4000] loss: 0.939\n",
            "[6,  5000] loss: 0.922\n",
            "[6,  6000] loss: 0.927\n",
            "[6,  7000] loss: 0.923\n",
            "[6,  8000] loss: 0.950\n",
            "[6,  9000] loss: 0.945\n",
            "[6, 10000] loss: 0.924\n",
            "[6, 11000] loss: 0.959\n",
            "[6, 12000] loss: 0.973\n",
            "[7,  1000] loss: 0.874\n",
            "[7,  2000] loss: 0.875\n",
            "[7,  3000] loss: 0.841\n",
            "[7,  4000] loss: 0.865\n",
            "[7,  5000] loss: 0.900\n",
            "[7,  6000] loss: 0.892\n",
            "[7,  7000] loss: 0.899\n",
            "[7,  8000] loss: 0.899\n",
            "[7,  9000] loss: 0.891\n",
            "[7, 10000] loss: 0.933\n",
            "[7, 11000] loss: 0.906\n",
            "[7, 12000] loss: 0.936\n",
            "[8,  1000] loss: 0.840\n",
            "[8,  2000] loss: 0.836\n",
            "[8,  3000] loss: 0.820\n",
            "[8,  4000] loss: 0.846\n",
            "[8,  5000] loss: 0.870\n",
            "[8,  6000] loss: 0.863\n",
            "[8,  7000] loss: 0.863\n",
            "[8,  8000] loss: 0.875\n",
            "[8,  9000] loss: 0.887\n",
            "[8, 10000] loss: 0.868\n",
            "[8, 11000] loss: 0.886\n",
            "[8, 12000] loss: 0.895\n",
            "[9,  1000] loss: 0.806\n",
            "[9,  2000] loss: 0.819\n",
            "[9,  3000] loss: 0.794\n",
            "[9,  4000] loss: 0.822\n",
            "[9,  5000] loss: 0.821\n",
            "[9,  6000] loss: 0.843\n",
            "[9,  7000] loss: 0.814\n",
            "[9,  8000] loss: 0.813\n",
            "[9,  9000] loss: 0.834\n",
            "[9, 10000] loss: 0.865\n",
            "[9, 11000] loss: 0.889\n",
            "[9, 12000] loss: 0.875\n",
            "[10,  1000] loss: 0.730\n",
            "[10,  2000] loss: 0.806\n",
            "[10,  3000] loss: 0.799\n",
            "[10,  4000] loss: 0.817\n",
            "[10,  5000] loss: 0.834\n",
            "[10,  6000] loss: 0.811\n",
            "[10,  7000] loss: 0.760\n",
            "[10,  8000] loss: 0.834\n",
            "[10,  9000] loss: 0.838\n",
            "[10, 10000] loss: 0.828\n",
            "[10, 11000] loss: 0.859\n",
            "[10, 12000] loss: 0.791\n",
            "Finished Training\n"
          ]
        }
      ]
    },
    {
      "cell_type": "code",
      "source": [
        "dataiter = iter(testloader)\n",
        "images, labels = dataiter.__next__()\n",
        "\n",
        "# print images\n",
        "imshow(torchvision.utils.make_grid(images))\n",
        "print('GroundTruth: ', ' '.join('%5s' % classes[labels[j]] for j in range(4)))\n",
        "plt.show()"
      ],
      "metadata": {
        "colab": {
          "base_uri": "https://localhost:8080/",
          "height": 211
        },
        "id": "rNF7TthMfA37",
        "outputId": "0239b0d4-3422-4240-c11e-42eb900449df"
      },
      "execution_count": 13,
      "outputs": [
        {
          "output_type": "stream",
          "name": "stdout",
          "text": [
            "GroundTruth:    cat  ship  ship plane\n"
          ]
        },
        {
          "output_type": "display_data",
          "data": {
            "text/plain": [
              "<Figure size 640x480 with 1 Axes>"
            ],
            "image/png": "[encoded data removed]"
          },
          "metadata": {}
        }
      ]
    },
    {
      "cell_type": "code",
      "source": [
        "outputs = net(images)\n",
        "_, predicted = torch.max(outputs, 1)\n",
        "\n",
        "print('Predicted: ', ' '.join('%5s' % classes[predicted[j]]\n",
        "                              for j in range(4)))"
      ],
      "metadata": {
        "colab": {
          "base_uri": "https://localhost:8080/"
        },
        "id": "NJqS91M8hYv1",
        "outputId": "e58b24f0-d73b-4f86-bc2e-2901e265f816"
      },
      "execution_count": 14,
      "outputs": [
        {
          "output_type": "stream",
          "name": "stdout",
          "text": [
            "Predicted:    cat  ship  ship plane\n"
          ]
        }
      ]
    },
    {
      "cell_type": "code",
      "source": [
        "#과제2에서 요구하는 accuracy의 결과값이 나오는 code입니다! 캡처를 하실 때는 해당 코드의 결과를 캡처하시고, 이를 제출하여 주시기 바랍니다~\n",
        "correct = 0\n",
        "total = 0\n",
        "with torch.no_grad():\n",
        "    for data in testloader:\n",
        "        images, labels = data\n",
        "        outputs = net(images)\n",
        "        _, predicted = torch.max(outputs.data, 1)\n",
        "        total += labels.size(0)\n",
        "        correct += (predicted == labels).sum().item()\n",
        "\n",
        "print('Accuracy of the network on the 10000 test images: %d %%' % (\n",
        "    100 * correct / total))"
      ],
      "metadata": {
        "colab": {
          "base_uri": "https://localhost:8080/"
        },
        "id": "wKItpc_2heNT",
        "outputId": "6a64eadb-821d-48c2-f377-a64aae3a7ea0"
      },
      "execution_count": 15,
      "outputs": [
        {
          "output_type": "stream",
          "name": "stdout",
          "text": [
            "Accuracy of the network on the 10000 test images: 62 %\n"
          ]
        }
      ]
    },
    {
      "cell_type": "code",
      "source": [
        "class_correct = list(0. for i in range(10))\n",
        "class_total = list(0. for i in range(10))\n",
        "with torch.no_grad():\n",
        "    for data in testloader:\n",
        "        images, labels = data\n",
        "        outputs = net(images)\n",
        "        _, predicted = torch.max(outputs, 1)\n",
        "        c = (predicted == labels).squeeze()\n",
        "        for i in range(4):\n",
        "            label = labels[i]\n",
        "            class_correct[label] += c[i].item()\n",
        "            class_total[label] += 1\n",
        "\n",
        "\n",
        "for i in range(10):\n",
        "    print('Accuracy of %5s : %2d %%' % (\n",
        "        classes[i], 100 * class_correct[i] / class_total[i]))"
      ],
      "metadata": {
        "colab": {
          "base_uri": "https://localhost:8080/"
        },
        "id": "2VD2MZ91hkk1",
        "outputId": "0ccc710b-a843-4a09-db76-e26de3036a33"
      },
      "execution_count": null,
      "outputs": [
        {
          "output_type": "stream",
          "name": "stdout",
          "text": [
            "Accuracy of plane : 72 %\n",
            "Accuracy of   car : 58 %\n",
            "Accuracy of  bird : 35 %\n",
            "Accuracy of   cat : 68 %\n",
            "Accuracy of  deer : 11 %\n",
            "Accuracy of   dog : 17 %\n",
            "Accuracy of  frog : 49 %\n",
            "Accuracy of horse : 49 %\n",
            "Accuracy of  ship : 35 %\n",
            "Accuracy of truck : 63 %\n"
          ]
        }
      ]
    },
    {
      "cell_type": "markdown",
      "source": [
        "출처: https://m.blog.naver.com/ckdgus1433/221406102936의 튜토리얼을 참고하였습니다!"
      ],
      "metadata": {
        "id": "FXdtUROHSU4_"
      }
    },
    {
      "cell_type": "code",
      "source": [],
      "metadata": {
        "id": "BQl-BQnKSUlu"
      },
      "execution_count": null,
      "outputs": []
    },
    {
      "cell_type": "markdown",
      "source": [
        "#과제"
      ],
      "metadata": {
        "id": "SXfXZ7HorjRI"
      }
    },
    {
      "cell_type": "markdown",
      "source": [
        "##1. 실습 파일의 overfitting model의 optimizer, epoch, learning rate 등을 변경하여 실행한 결과와, underfitting의 layer를 2개 이상 추가하여 실행한 결과를 각각 캡처하여 overfit, underfit이라는 이름으로 깃허브에 제출하기.  <br> <br>\n",
        "##2. 과제 파일을 수정하여 Test image에 대한 accuracy를 55% 이상으로 높이고, 모델의 결과에 대한 캡처본과 파일을 모두 깃허브에 제출하기. <br>\n",
        "Hint: 파일 중간중간에 설명이 있는 부분을 참고하시면 아마 될 겁니다!<br>\n",
        "(layer 추가, optimizer 변경, learning rate 조정 등...) <br>\n",
        "##3. MLP model과 기존 ML model의 차이점을 최소 2가지 측면에서 서술하기. <br>\n",
        "답1: MLP는 FEATURE-ENGINEERING을 사람이 하지 않고, 자동으로 가능하기에 기존 ML이 다룰 수 없던 비정형 DATA를 다룰 수 있다.  <br>\n",
        "답2: 위와 같은 비정형 데이터를 다루기 위해 역전파 등 다양한 것을 도입하였으며, 이로 인해 생긴 GRADIENT VANISHING 현상을 막기 위해 LEAKY-RELU 등 다양한 방법을 고안하였다."
      ],
      "metadata": {
        "id": "PxXa62w5rmyq"
      }
    }
  ],
  "metadata": {
    "accelerator": "GPU",
    "colab": {
      "provenance": [],
      "gpuType": "T4"
    },
    "kernelspec": {
      "display_name": "Python 3",
      "name": "python3"
    },
    "language_info": {
      "name": "python"
    }
  },
  "nbformat": 4,
  "nbformat_minor": 0
}